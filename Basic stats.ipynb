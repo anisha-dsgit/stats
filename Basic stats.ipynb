{
 "cells": [
  {
   "cell_type": "code",
   "execution_count": 1,
   "id": "5bf95a50",
   "metadata": {},
   "outputs": [],
   "source": [
    "import numpy as np\n",
    "import statistics"
   ]
  },
  {
   "cell_type": "markdown",
   "id": "c8dd1789",
   "metadata": {},
   "source": [
    "## Types of data \n",
    "\n",
    "1. Qualitative : \n",
    "- nominal( data can be categorised by its given name) eg: seasons, months,   and\n",
    "- ordinal( data can be ordered by its name) eg: good, bad, worst or asian,negro,american or sweet,bitter etc\n",
    "\n",
    "2. Quantitative:\n",
    "- discrete - eg: ranks of students in class\n",
    "- continuous - eg: avg height range in class, weight range in class "
   ]
  },
  {
   "cell_type": "markdown",
   "id": "7b3f843c",
   "metadata": {},
   "source": [
    "## Scales of measurement \n",
    "1. Nominal scale - order not important, values get categorised under its name, can't be measured.\n",
    "2. ordinal scale-  order important, but values can't be measured \n",
    "3. interval scale- we have continous data, values can be divided but interval can't be zero. difference not a measurement criteria eg: temperature changes\n",
    "4. ratio scale - we have discrete data, values can be divided and difference can be measured, it can be zero also. "
   ]
  },
  {
   "cell_type": "markdown",
   "id": "e12d3bad",
   "metadata": {},
   "source": [
    "## Descriptive stats \n",
    "\n",
    " AIM: to describe the data ie mean, median, mode,correlation between data points, skewness,kurtosis, measures of dispersion, measures of central tendency, type of distribution of data, finding min,max, outliers of data and make conclusions\n",
    " \n",
    " 1. measures of central tendency \n",
    " - mean\n",
    " - median(used when there are outliers) \n",
    " - mode\n",
    " \n",
    " 2.measures of dispersion \n",
    " - range = (max-min value)\n",
    " - variance = spread of data  : (points -mean)^2/n-1 , why n-1 ? because we don't want to miss out inaccuracy in data.  \n",
    " - std deviation = distance of points from mean\n",
    " \n",
    " 3.Skewness of data- the horizontal spread of the distribution curve of data \n",
    " - right = right tail\n",
    " - left = left tail\n",
    " \n",
    " 4.kurtosis - the vertical height of distribution curve of data\n",
    " - high kurtosis = most point situated near mean vertically\n",
    " - low kurtosis = most points away from mean , spread horizontally\n",
    " \n",
    " 5.Percentiles and Quartiles \n",
    " - percentile = number of values below certain point/total number of values \n",
    " - Quartiles = found through 5 point summary \n",
    " \n",
    "         ## 5 point summary - min, q1,median(or q2),q3,max,outliers \n",
    "         - min = min of the range of data \n",
    "         - max = last point excluding outlier\n",
    "         - q1 = 25/100* (total len of data +1)- gives position so find the number at that position\n",
    "         - q2= 50/100*(total len of data +1)- gives position so find the number at that position\n",
    "         - q3= 75/100*(total len of data +1)- gives position so find the number at that position\n",
    "\n",
    "            IQR = inter quartile range = Q3-Q1\n",
    "            lower fence = q1-1.5*iqr\n",
    "            higher fenc = q3+1.5*iqr \n",
    "\n",
    "            Q. how to identiy outliers?\n",
    "            anything outside lower fence and higher fence \n",
    "\n",
    "6. coorelation and covariance \n",
    "\n",
    "- covariance: tells about the relation between data points , lies between -infinity to + infinity \n",
    "\n",
    "- corelation : cov(x,y)/stdev(x)* stdev(y) , value lies between -1 and +1 \n",
    " \n",
    " 2 types of corelation :\n",
    " \n",
    " 1. pearson - cov(x,y)/stdev(x)* stdev(y)\n",
    " 2. spearman - we give ranks to the values in variables x and y ( decreasing order of values) - highest rank given to topmost value and calculate using same formula to find the corelation between the variables. \n",
    " \n"
   ]
  },
  {
   "cell_type": "markdown",
   "id": "1d8cf8ee",
   "metadata": {},
   "source": [
    "\n",
    "## Types of Distribution Curve\n",
    "1. pmf = mass function - find prob of happening of discrete values and plot\n",
    "2. pdf= prob density function - find prob of continuous values and plot \n",
    "3. cdf = cumulative density function - find the cumulative prob values and plot \n",
    "\n",
    "\n",
    "## Types of distribution \n",
    "1. uniform\n",
    "2. bernoulli\n",
    "3. binomial\n",
    "4. log normal\n",
    "5. exponential \n",
    "6. power law \n"
   ]
  },
  {
   "cell_type": "markdown",
   "id": "eaf02746",
   "metadata": {},
   "source": [
    "## generate an array of random numbers "
   ]
  },
  {
   "cell_type": "code",
   "execution_count": 16,
   "id": "30ee4f86",
   "metadata": {},
   "outputs": [
    {
     "data": {
      "text/plain": [
       "array([ 81,  91, 885, 652, 289, 825, 248, 963, 930, 721, 801, 628, 686,\n",
       "       201, 883, 497, 857, 884, 927, 176, 552, 949, 614,  50, 405, 796,\n",
       "       181, 191, 601, 505, 931, 943, 661, 996, 751, 166, 965, 455,  87,\n",
       "       386])"
      ]
     },
     "execution_count": 16,
     "metadata": {},
     "output_type": "execute_result"
    }
   ],
   "source": [
    "population=np.random.randint(low=1,high=1000,size=40)\n",
    "population"
   ]
  },
  {
   "cell_type": "markdown",
   "id": "5487cea3",
   "metadata": {},
   "source": [
    "## find statistic - mean , median, mode"
   ]
  },
  {
   "cell_type": "code",
   "execution_count": 17,
   "id": "7270066f",
   "metadata": {},
   "outputs": [
    {
     "data": {
      "text/plain": [
       "585.25"
      ]
     },
     "execution_count": 17,
     "metadata": {},
     "output_type": "execute_result"
    }
   ],
   "source": [
    "np.mean(a=population)"
   ]
  },
  {
   "cell_type": "code",
   "execution_count": 18,
   "id": "31b86f40",
   "metadata": {},
   "outputs": [
    {
     "data": {
      "text/plain": [
       "640.0"
      ]
     },
     "execution_count": 18,
     "metadata": {},
     "output_type": "execute_result"
    }
   ],
   "source": [
    "np.median(a=population)"
   ]
  },
  {
   "cell_type": "code",
   "execution_count": 19,
   "id": "75ff7593",
   "metadata": {},
   "outputs": [
    {
     "data": {
      "text/plain": [
       "81"
      ]
     },
     "execution_count": 19,
     "metadata": {},
     "output_type": "execute_result"
    }
   ],
   "source": [
    "#find mode \n",
    "#mode function not available in numpy \n",
    "from statistics import mode\n",
    "mode(population)"
   ]
  },
  {
   "cell_type": "markdown",
   "id": "59b1d37d",
   "metadata": {},
   "source": [
    "## variance"
   ]
  },
  {
   "cell_type": "code",
   "execution_count": 20,
   "id": "f72fbbd9",
   "metadata": {},
   "outputs": [
    {
     "data": {
      "text/plain": [
       "94483.6875"
      ]
     },
     "execution_count": 20,
     "metadata": {},
     "output_type": "execute_result"
    }
   ],
   "source": [
    "#this variance used complete population for calculation\n",
    "pvar=np.var(population)\n",
    "pvar"
   ]
  },
  {
   "cell_type": "code",
   "execution_count": 21,
   "id": "5a3c25e9",
   "metadata": {},
   "outputs": [
    {
     "data": {
      "text/plain": [
       "96906"
      ]
     },
     "execution_count": 21,
     "metadata": {},
     "output_type": "execute_result"
    }
   ],
   "source": [
    "#this variance used n-1 ie sample to calculate the variance\n",
    "import statistics as stats\n",
    "var=stats.variance(population)\n",
    "var"
   ]
  },
  {
   "cell_type": "code",
   "execution_count": 22,
   "id": "f3ee4200",
   "metadata": {},
   "outputs": [
    {
     "data": {
      "text/plain": [
       "94483"
      ]
     },
     "execution_count": 22,
     "metadata": {},
     "output_type": "execute_result"
    }
   ],
   "source": [
    "## calculates the population variance\n",
    "stats.pvariance(population) "
   ]
  },
  {
   "cell_type": "markdown",
   "id": "c443fa94",
   "metadata": {},
   "source": [
    "## Standard deviation "
   ]
  },
  {
   "cell_type": "code",
   "execution_count": 23,
   "id": "d01007bc",
   "metadata": {},
   "outputs": [
    {
     "data": {
      "text/plain": [
       "311.2972855647797"
      ]
     },
     "execution_count": 23,
     "metadata": {},
     "output_type": "execute_result"
    }
   ],
   "source": [
    "#sample standard deviation\n",
    "import math \n",
    "math.sqrt(var)"
   ]
  },
  {
   "cell_type": "code",
   "execution_count": 24,
   "id": "7340c966",
   "metadata": {},
   "outputs": [
    {
     "data": {
      "text/plain": [
       "307.38198955046147"
      ]
     },
     "execution_count": 24,
     "metadata": {},
     "output_type": "execute_result"
    }
   ],
   "source": [
    "#population standard deviation\n",
    "np.std(population)"
   ]
  },
  {
   "cell_type": "markdown",
   "id": "1bb21fc8",
   "metadata": {},
   "source": [
    "## correlation \n",
    "1. library is dataframe "
   ]
  },
  {
   "cell_type": "code",
   "execution_count": 25,
   "id": "1d3b5adf",
   "metadata": {},
   "outputs": [
    {
     "data": {
      "text/html": [
       "<div>\n",
       "<style scoped>\n",
       "    .dataframe tbody tr th:only-of-type {\n",
       "        vertical-align: middle;\n",
       "    }\n",
       "\n",
       "    .dataframe tbody tr th {\n",
       "        vertical-align: top;\n",
       "    }\n",
       "\n",
       "    .dataframe thead th {\n",
       "        text-align: right;\n",
       "    }\n",
       "</style>\n",
       "<table border=\"1\" class=\"dataframe\">\n",
       "  <thead>\n",
       "    <tr style=\"text-align: right;\">\n",
       "      <th></th>\n",
       "      <th>col2</th>\n",
       "      <th>col1</th>\n",
       "    </tr>\n",
       "  </thead>\n",
       "  <tbody>\n",
       "    <tr>\n",
       "      <th>0</th>\n",
       "      <td>1.00</td>\n",
       "      <td>5.0</td>\n",
       "    </tr>\n",
       "    <tr>\n",
       "      <th>1</th>\n",
       "      <td>13.25</td>\n",
       "      <td>6.0</td>\n",
       "    </tr>\n",
       "    <tr>\n",
       "      <th>2</th>\n",
       "      <td>25.50</td>\n",
       "      <td>7.0</td>\n",
       "    </tr>\n",
       "    <tr>\n",
       "      <th>3</th>\n",
       "      <td>37.75</td>\n",
       "      <td>8.0</td>\n",
       "    </tr>\n",
       "    <tr>\n",
       "      <th>4</th>\n",
       "      <td>50.00</td>\n",
       "      <td>9.0</td>\n",
       "    </tr>\n",
       "  </tbody>\n",
       "</table>\n",
       "</div>"
      ],
      "text/plain": [
       "    col2  col1\n",
       "0   1.00   5.0\n",
       "1  13.25   6.0\n",
       "2  25.50   7.0\n",
       "3  37.75   8.0\n",
       "4  50.00   9.0"
      ]
     },
     "execution_count": 25,
     "metadata": {},
     "output_type": "execute_result"
    }
   ],
   "source": [
    "import pandas as pd\n",
    "data1=pd.DataFrame([np.linspace(1,50,5),np.arange(5,10)])\n",
    "data1=data1.T.rename(columns={1:\"col1\",0:\"col2\"})\n",
    "data1"
   ]
  },
  {
   "cell_type": "code",
   "execution_count": 26,
   "id": "60fa766f",
   "metadata": {},
   "outputs": [
    {
     "data": {
      "text/html": [
       "<div>\n",
       "<style scoped>\n",
       "    .dataframe tbody tr th:only-of-type {\n",
       "        vertical-align: middle;\n",
       "    }\n",
       "\n",
       "    .dataframe tbody tr th {\n",
       "        vertical-align: top;\n",
       "    }\n",
       "\n",
       "    .dataframe thead th {\n",
       "        text-align: right;\n",
       "    }\n",
       "</style>\n",
       "<table border=\"1\" class=\"dataframe\">\n",
       "  <thead>\n",
       "    <tr style=\"text-align: right;\">\n",
       "      <th></th>\n",
       "      <th>col2</th>\n",
       "      <th>col1</th>\n",
       "    </tr>\n",
       "  </thead>\n",
       "  <tbody>\n",
       "    <tr>\n",
       "      <th>col2</th>\n",
       "      <td>1.0</td>\n",
       "      <td>1.0</td>\n",
       "    </tr>\n",
       "    <tr>\n",
       "      <th>col1</th>\n",
       "      <td>1.0</td>\n",
       "      <td>1.0</td>\n",
       "    </tr>\n",
       "  </tbody>\n",
       "</table>\n",
       "</div>"
      ],
      "text/plain": [
       "      col2  col1\n",
       "col2   1.0   1.0\n",
       "col1   1.0   1.0"
      ]
     },
     "execution_count": 26,
     "metadata": {},
     "output_type": "execute_result"
    }
   ],
   "source": [
    "data1.corr()"
   ]
  },
  {
   "cell_type": "code",
   "execution_count": 28,
   "id": "61bec8bb",
   "metadata": {},
   "outputs": [],
   "source": [
    "import seaborn as sns "
   ]
  },
  {
   "cell_type": "markdown",
   "id": "171105e7",
   "metadata": {},
   "source": [
    "## graph to plot the numerical data"
   ]
  },
  {
   "cell_type": "code",
   "execution_count": 29,
   "id": "4cd4a621",
   "metadata": {},
   "outputs": [
    {
     "data": {
      "text/plain": [
       "<AxesSubplot:xlabel='col1', ylabel='col2'>"
      ]
     },
     "execution_count": 29,
     "metadata": {},
     "output_type": "execute_result"
    },
    {
     "data": {
      "image/png": "[encoded data removed]",
      "text/plain": [
       "<Figure size 432x288 with 1 Axes>"
      ]
     },
     "metadata": {
      "needs_background": "light"
     },
     "output_type": "display_data"
    }
   ],
   "source": [
    "\n",
    "sns.scatterplot(x='col1',y='col2',data=data1)"
   ]
  },
  {
   "cell_type": "markdown",
   "id": "cc54cb7b",
   "metadata": {},
   "source": [
    "## Covariance"
   ]
  },
  {
   "cell_type": "code",
   "execution_count": 30,
   "id": "a6bc8635",
   "metadata": {},
   "outputs": [
    {
     "data": {
      "text/html": [
       "<div>\n",
       "<style scoped>\n",
       "    .dataframe tbody tr th:only-of-type {\n",
       "        vertical-align: middle;\n",
       "    }\n",
       "\n",
       "    .dataframe tbody tr th {\n",
       "        vertical-align: top;\n",
       "    }\n",
       "\n",
       "    .dataframe thead th {\n",
       "        text-align: right;\n",
       "    }\n",
       "</style>\n",
       "<table border=\"1\" class=\"dataframe\">\n",
       "  <thead>\n",
       "    <tr style=\"text-align: right;\">\n",
       "      <th></th>\n",
       "      <th>col2</th>\n",
       "      <th>col1</th>\n",
       "    </tr>\n",
       "  </thead>\n",
       "  <tbody>\n",
       "    <tr>\n",
       "      <th>col2</th>\n",
       "      <td>375.15625</td>\n",
       "      <td>30.625</td>\n",
       "    </tr>\n",
       "    <tr>\n",
       "      <th>col1</th>\n",
       "      <td>30.62500</td>\n",
       "      <td>2.500</td>\n",
       "    </tr>\n",
       "  </tbody>\n",
       "</table>\n",
       "</div>"
      ],
      "text/plain": [
       "           col2    col1\n",
       "col2  375.15625  30.625\n",
       "col1   30.62500   2.500"
      ]
     },
     "execution_count": 30,
     "metadata": {},
     "output_type": "execute_result"
    }
   ],
   "source": [
    "data1.cov()"
   ]
  },
  {
   "cell_type": "markdown",
   "id": "13e52f44",
   "metadata": {},
   "source": [
    "## make a sample of the population \n"
   ]
  },
  {
   "cell_type": "code",
   "execution_count": 31,
   "id": "54e3cd30",
   "metadata": {},
   "outputs": [
    {
     "data": {
      "text/plain": [
       "array([751,  81, 857, 721,  91, 885, 176, 166, 614, 652])"
      ]
     },
     "execution_count": 31,
     "metadata": {},
     "output_type": "execute_result"
    }
   ],
   "source": [
    "sample=np.random.choice(a=population,size=10,p=None)\n",
    "sample\n",
    "#p = probabilities associated with each number of the array, if None, it assumes a uniform distribution\n"
   ]
  },
  {
   "cell_type": "code",
   "execution_count": 32,
   "id": "32461c32",
   "metadata": {},
   "outputs": [
    {
     "name": "stdout",
     "output_type": "stream",
     "text": [
      "mean of sample:  499.4\n",
      "median of sample: 633.0\n",
      "mode of sample:  751\n"
     ]
    }
   ],
   "source": [
    "print(f\"mean of sample:  {np.mean(sample)}\")\n",
    "print(f\"median of sample: {np.median(sample)}\")\n",
    "print(f\"mode of sample:  {mode(sample)}\")"
   ]
  },
  {
   "cell_type": "code",
   "execution_count": 33,
   "id": "796c427b",
   "metadata": {},
   "outputs": [],
   "source": [
    "sample1=np.random.choice(population,size=15)\n",
    "sample2=np.random.choice(population,size=15)\n",
    "sample3=np.random.choice(population,size=15)\n",
    "sample4=np.random.choice(population,size=15)"
   ]
  },
  {
   "cell_type": "code",
   "execution_count": 34,
   "id": "304f5cdd",
   "metadata": {},
   "outputs": [
    {
     "name": "stdout",
     "output_type": "stream",
     "text": [
      "[884 949 505 930 628 949 883 386  87 943 191 721  50 652 166]\n",
      "**************************************************\n",
      "[201 652 181 405 931 751 963 505 996 505  81 405 884 796 751]\n",
      "**************************************************\n",
      "[176 191  91  81 825  91 751 885  50 181 963 825 497 943 801]\n",
      "**************************************************\n",
      "[ 91  81 927 661 552 883 191 455 289 176 796 652 248 885 801]\n"
     ]
    }
   ],
   "source": [
    "print(sample1)\n",
    "print(\"*\"*50)\n",
    "print(sample2)\n",
    "print(\"*\"*50)\n",
    "print(sample3)\n",
    "print(\"*\"*50)\n",
    "print(sample4)\n"
   ]
  },
  {
   "cell_type": "code",
   "execution_count": 35,
   "id": "4e7759fb",
   "metadata": {},
   "outputs": [
    {
     "name": "stdout",
     "output_type": "stream",
     "text": [
      "[594.9333333333333, 600.4666666666667, 490.06666666666666, 512.5333333333333]\n"
     ]
    }
   ],
   "source": [
    "#find mean of each sample\n",
    "sample_list=[sample1,sample2,sample3,sample4]\n",
    "mean_list=[]\n",
    "for sample in sample_list:\n",
    "    mean_list.append(np.mean(sample))\n",
    "print(mean_list)"
   ]
  },
  {
   "cell_type": "code",
   "execution_count": 36,
   "id": "6220f08b",
   "metadata": {},
   "outputs": [
    {
     "data": {
      "text/plain": [
       "[<matplotlib.lines.Line2D at 0x1d05e66f970>]"
      ]
     },
     "execution_count": 36,
     "metadata": {},
     "output_type": "execute_result"
    },
    {
     "data": {
      "image/png": "[encoded data removed]",
      "text/plain": [
       "<Figure size 432x288 with 1 Axes>"
      ]
     },
     "metadata": {
      "needs_background": "light"
     },
     "output_type": "display_data"
    }
   ],
   "source": [
    "#plot the points around mean \n",
    "import matplotlib.pyplot as plt \n",
    "plt.plot(mean_list)"
   ]
  },
  {
   "cell_type": "markdown",
   "id": "fbeccad9",
   "metadata": {},
   "source": [
    "## creating normal distribution curve "
   ]
  },
  {
   "cell_type": "code",
   "execution_count": 37,
   "id": "c5f3bc08",
   "metadata": {},
   "outputs": [
    {
     "data": {
      "text/plain": [
       "array([ 2.27786021,  7.17618398,  0.03637741, -2.24695749,  2.55700998,\n",
       "       -1.12547041,  1.85528152, -2.15352698, -3.46671429, -1.83240723,\n",
       "        7.87945889, -2.58294543, -2.88442759,  0.67449083,  5.00563174,\n",
       "        4.25113122, -2.26461298,  2.70192574, -1.84192503,  1.66881837,\n",
       "        0.04034853, -1.82630509,  2.78590852, -0.69925324,  1.5134432 ,\n",
       "        2.92694246,  4.64038392, -0.97917835,  0.1490187 ,  0.23327928,\n",
       "        1.45310493,  1.4792602 , -4.65735585, -2.12546743,  4.80585855,\n",
       "       -0.35044507, -2.53985255, -0.35924414,  7.12295303,  2.65313424,\n",
       "       -0.65589129,  1.11859314, -4.72411849,  8.44883425,  4.91029283,\n",
       "        4.81060311,  0.88835962,  0.19569501, -1.31919217,  0.29203809,\n",
       "        3.33078771, -4.69372809,  0.42095934,  2.56162818,  0.64069842,\n",
       "        2.22166152,  1.73350161, -1.88618883,  0.43720291,  8.53579376,\n",
       "        2.90279068, -3.35191496,  1.46895852, -0.27455827, -1.67914566,\n",
       "        2.18180996,  2.07273267,  0.12334027,  2.41647856,  5.53015587,\n",
       "        0.42176584, -1.13419624, -4.41612832,  3.99814024,  2.56763   ,\n",
       "        2.70151948, -2.39669065,  3.24662238, -0.19306282, -1.21049111,\n",
       "        3.59225451, -0.92975272, -4.04278336, -0.42650948,  2.08355482,\n",
       "       -2.11737873,  2.26987488,  0.37981324, -2.34888194,  4.76479255,\n",
       "        5.46911547,  2.34394329,  1.36214112,  2.10807606,  6.09557848,\n",
       "        6.34624737, -2.82887964,  0.69249233, -2.60463943, -0.28954159])"
      ]
     },
     "execution_count": 37,
     "metadata": {},
     "output_type": "execute_result"
    }
   ],
   "source": [
    "#loc = mean , scale = stdev\n",
    "data_nm=np.random.normal(loc=1,scale=3,size=100)\n",
    "data_nm"
   ]
  },
  {
   "cell_type": "code",
   "execution_count": 38,
   "id": "2566ae15",
   "metadata": {},
   "outputs": [
    {
     "data": {
      "text/plain": [
       "<AxesSubplot:ylabel='Count'>"
      ]
     },
     "execution_count": 38,
     "metadata": {},
     "output_type": "execute_result"
    },
    {
     "data": {
      "image/png": "[encoded data removed]",
      "text/plain": [
       "<Figure size 432x288 with 1 Axes>"
      ]
     },
     "metadata": {
      "needs_background": "light"
     },
     "output_type": "display_data"
    }
   ],
   "source": [
    "sns.histplot(data_nm,kde=True)"
   ]
  },
  {
   "cell_type": "code",
   "execution_count": null,
   "id": "f01380d4",
   "metadata": {},
   "outputs": [],
   "source": []
  },
  {
   "cell_type": "markdown",
   "id": "d96e8f01",
   "metadata": {},
   "source": [
    "## creating log normal distribution "
   ]
  },
  {
   "cell_type": "code",
   "execution_count": 40,
   "id": "0e88ab06",
   "metadata": {},
   "outputs": [
    {
     "data": {
      "text/plain": [
       "array([3.08458416, 0.98900066, 0.79122278, 5.00988678, 1.50104021,\n",
       "       2.84289017, 4.57657404, 2.19764855, 3.31812775, 4.8057126 ,\n",
       "       2.85891129, 3.72088178, 1.39318204, 3.35527123, 3.8644472 ,\n",
       "       5.9733987 , 8.76506203, 4.13606339, 2.78627723, 3.96886949,\n",
       "       3.54246977, 3.23434958, 2.07670927, 1.78987131, 5.77456795,\n",
       "       2.52646214, 2.08200318, 4.17194729, 2.33448541, 1.53457056,\n",
       "       4.25043932, 4.34717839, 4.47069375, 1.17412406, 3.07911503,\n",
       "       6.42725633, 2.98093873, 0.84541707, 1.97865849, 0.90398496,\n",
       "       1.28702254, 2.6756602 , 2.05554135, 3.45557391, 2.47865883,\n",
       "       2.59943973, 0.92578305, 1.56350632, 7.24452442, 3.57595838,\n",
       "       1.27104859, 4.64594502, 2.82795254, 3.48111577, 2.01515639,\n",
       "       1.80545083, 3.54033677, 2.3978925 , 3.13200915, 1.28304887,\n",
       "       0.96129137, 2.01844368, 4.66884494, 3.29607032, 1.36479528,\n",
       "       4.11003636, 2.08390683, 1.20695173, 2.06446525, 2.64944562,\n",
       "       1.59815572, 2.58144897, 3.0423014 , 3.47507791, 3.13794008,\n",
       "       5.47453611, 1.06054157, 2.70286843, 1.64507555, 3.58113218,\n",
       "       3.12694438, 2.20859501, 2.09501827, 4.10047346, 3.51399627,\n",
       "       2.34402666, 2.23504838, 2.27497496, 2.12892562, 4.31013799,\n",
       "       1.53192384, 2.50749454, 4.68154642, 6.2434593 , 2.80986188,\n",
       "       2.31872119, 1.0393999 , 3.53901578, 2.7156553 , 6.49832817])"
      ]
     },
     "execution_count": 40,
     "metadata": {},
     "output_type": "execute_result"
    }
   ],
   "source": [
    "data_log=np.random.lognormal(1,0.5,100)\n",
    "data_log"
   ]
  },
  {
   "cell_type": "code",
   "execution_count": 41,
   "id": "a5ec7aec",
   "metadata": {},
   "outputs": [
    {
     "data": {
      "text/plain": [
       "<AxesSubplot:ylabel='Count'>"
      ]
     },
     "execution_count": 41,
     "metadata": {},
     "output_type": "execute_result"
    },
    {
     "data": {
      "image/png": "[encoded data removed]",
      "text/plain": [
       "<Figure size 432x288 with 1 Axes>"
      ]
     },
     "metadata": {
      "needs_background": "light"
     },
     "output_type": "display_data"
    }
   ],
   "source": [
    "sns.histplot(data_log,kde=True)"
   ]
  },
  {
   "cell_type": "markdown",
   "id": "97191972",
   "metadata": {},
   "source": [
    "## converting above log normal curve to normal distribution "
   ]
  },
  {
   "cell_type": "code",
   "execution_count": 42,
   "id": "a938e0f7",
   "metadata": {},
   "outputs": [
    {
     "data": {
      "text/plain": [
       "<AxesSubplot:ylabel='Count'>"
      ]
     },
     "execution_count": 42,
     "metadata": {},
     "output_type": "execute_result"
    },
    {
     "data": {
      "image/png": "[encoded data removed]",
      "text/plain": [
       "<Figure size 432x288 with 1 Axes>"
      ]
     },
     "metadata": {
      "needs_background": "light"
     },
     "output_type": "display_data"
    }
   ],
   "source": [
    "sns.histplot(np.log(data_log),kde=True)"
   ]
  },
  {
   "cell_type": "markdown",
   "id": "e1b32bbd",
   "metadata": {},
   "source": [
    "## Types of Distribution\n",
    "\n",
    "Normal distribution: The normal distribution is one of the most commonly used distributions in statistical analysis. It is a bell-shaped curve that describes many natural phenomena. In many cases, data is assumed to be normally distributed, and this assumption is used to make predictions or draw conclusions.\n",
    "\n",
    "Binomial distribution: The binomial distribution is used when we have a binary outcome, such as success or failure. It describes the probability of getting a certain number of successes out of a fixed number of trials.\n",
    "\n",
    "Poisson distribution: The Poisson distribution is used to model events that occur randomly in time or space. It is commonly used in fields such as biology, epidemiology, and finance.\n",
    "\n",
    "Exponential distribution: The exponential distribution is used to model the time between events that occur randomly. It is commonly used in reliability engineering and queueing theory.\n",
    "\n",
    "Chi-square distribution: The chi-square distribution is used in hypothesis testing, particularly in tests of independence and goodness of fit."
   ]
  },
  {
   "cell_type": "markdown",
   "id": "baa44d00",
   "metadata": {},
   "source": [
    "## Inferential statistics \n",
    "take a sample from the population, MAKE ASSUMPTIONS and then generalise the result for the whole data. \n",
    "As we ae taking assumptions , we perform Hypothesis testing. \n",
    "\n",
    "1. Central limit theorem - sampling distribution of statistic would be normal \n",
    "\n",
    "2. Z test -  data follows normal distribution and then we apply the test \n",
    "    eg: avg value given, but we take a sample and avg comes out different and claim that avg is the new found from sample. We            test this claim \n",
    "   z test value = sample mean -population mean/standard error\n",
    "   standard error = sample std dev/sqrt(sample size)\n",
    "      \n",
    "3. T test - data follows normal distribution and then we apply the test\n",
    "    eg: avg value given, sample mean and std dev comes out different so we test the claim. \n",
    "4. chi square \n",
    "5. F test\n",
    "6. annova \n",
    "\n",
    "\n",
    "# Estimation problem - prediction \n",
    "Involves using sample data to estimate value of unknown parameter. When we take sample and use the information to find the estimate , we can have accuracy issues such as size of sample, variability of data, sampling method used to find the estimate and that's why statisticians developed methods to reach the nearest accurate estimate for the entire population. \n",
    "\n",
    "2 SUCH METHODS USED TO FIND THE ACCURATE PARAMETER are:\n",
    "1. CONFIDENCE INTERVAL : involves constructing interval estimate for the population parameter. \n",
    "2. HYPOTHESIS TESTING : involves making a decision about the parameter from sample data.\n",
    "\n",
    "\n",
    "## Point estimate = sample statistic ( mean/median)\n",
    "point estimate = sample statistic  \n",
    "\n",
    "## confidence interval \n",
    "Needed to find an interval of statistic at different confidence levels( value of alpha)\n",
    "- point estimate +- t(alpha/2)*margin of error \n",
    "- point estimate +- z(alpha/2)*margin of error \n",
    "\n",
    "eg: what is the expected mean production next year ? OR expected avg return next yr ?(95% confidence that market will go up)\n",
    "\n",
    "## margin error = standard error \n",
    "standard error = sample std dev/sqrt(sample size)\n",
    "\n",
    "## HYPOTHESIS TESTING \n",
    "Defining Null and alternate hypothesis to test the accuracy of the paramter used. \n",
    "\n",
    "\n",
    "# type of questions in T-test, z-test. \n",
    "Q. Test the claim that the sample mean is different than population mean ? \n",
    "Q. Test the claim that the sample mean is higher or lower than population mean \n",
    "\n",
    "requirements: \n",
    "- confidence level ( given by expertise ) to find significance level alpha\n",
    "- p value = prob that certain outcome will come in null hypothesis region of the curve \n",
    "\n",
    "\n",
    "# Use of estimation in real world scenario \n",
    "- heathcare industry : find avg time taken for drugs to get approval from FDA. Here we can use confidence interval or hypothesis                       testing on sample data to reach the values.\n",
    "- Employee Productivity: avg time taken to complete one topic from scratch to the advanced level. or time taken to complete one                       project end to end\n",
    "- Judiciary productivity: avg time taken for dispute resolution in government.\n",
    "- Drug performance: avg effect on body by a particular drug administered by diff brands. \n",
    "- Marketing: Avg ad spend over a particular ad campaign. \n"
   ]
  },
  {
   "cell_type": "markdown",
   "id": "e773245a",
   "metadata": {},
   "source": [
    "## Approach to solve a Hypothesis testing problem\n",
    "- state H0,H1\n",
    "- decide - t test/f test/ z test\n",
    "- decide one tail/two tail test \n",
    "- state confidence level , find alpha \n",
    "- find t value( degree of freedom and significance level) or z value (alpha/2 ) ----> gives area under the curve to the left of t or z value\n",
    "- find t statistic or z statistic ( sample mean-population mean)/standard error\n",
    "- if tvalue < t statistic then H0 is true \n",
    "- if t value> t statistic then we fail to accept the null hypothesis "
   ]
  },
  {
   "cell_type": "markdown",
   "id": "f41732b0",
   "metadata": {},
   "source": [
    "## Applying central limit theorem \n",
    "\n",
    "The central limit theorem relies on the concept of a sampling distribution, which is the probability distribution of a statistic for a large number of samples taken from a population.\n",
    "\n",
    "Imagining an experiment may help you to understand sampling distributions:\n",
    "\n",
    "Suppose that you draw a random sample from a population and calculate a statistic for the sample, such as the mean.\n",
    "Now you draw another random sample of the same size, and again calculate the mean.\n",
    "You repeat this process many times, and end up with a large number of means, one for each sample.\n",
    "The distribution of the sample means is an example of a sampling distribution.\n",
    "\n",
    "The central limit theorem says that the sampling distribution of the mean will always be normally distributed, as long as the sample size is large enough. Regardless of whether the population has a normal, Poisson, binomial, or any other distribution, the sampling distribution of the mean will be normal.\n",
    "\n",
    "## Use of CLT in real world scenario\n",
    "- Manufacturing: For quality control, we can take a sample of data and find the mean quality production and std dev in products.                This will help in checking the avg quality production in the manufacturing unit.  \n",
    "- Covid Drug effectiveness: We can check the effectiveness of drug on the sample and find the mean and std dev to measure                      effectiveness across entire population. \n",
    "- How many people make online transactions within a particular age group: take a sample population within an age group, check the number of online transactions and make conclusions. \n",
    "- public opinion polls: Take a sample from population and gauge their interest. "
   ]
  },
  {
   "cell_type": "code",
   "execution_count": null,
   "id": "d2573c04",
   "metadata": {},
   "outputs": [],
   "source": [
    "#according to central limit theorem, sample size should be large enough, we have taken 30% of length of data\n",
    "# 30% *10000=300  so size=300"
   ]
  },
  {
   "cell_type": "code",
   "execution_count": 43,
   "id": "370f8d84",
   "metadata": {},
   "outputs": [
    {
     "data": {
      "text/plain": [
       "array([5, 5, 3, 5, 6, 6, 6, 4, 7, 6, 2, 5, 7, 6, 6, 4, 3, 4, 5, 5, 4, 6,\n",
       "       7, 3, 3, 9, 4, 7, 5, 6, 3, 4, 5, 7, 6, 5, 3, 7, 7, 5, 2, 6, 7, 7,\n",
       "       6, 7, 2, 6, 5, 5, 6, 3, 8, 3, 5, 4, 4, 4, 5, 9, 6, 4, 4, 7, 7, 7,\n",
       "       7, 2, 6, 8, 7, 5, 7, 6, 3, 4, 5, 5, 4, 5, 8, 3, 7, 5, 7, 5, 6, 9,\n",
       "       5, 5, 7, 4, 4, 4, 3, 7, 6, 6, 7, 4, 4, 7, 3, 7, 6, 8, 4, 6, 4, 5,\n",
       "       3, 7, 4, 7, 6, 2, 6, 7, 5, 0, 8, 5, 3, 7, 5, 6, 6, 5, 5, 5, 4, 4,\n",
       "       3, 7, 5, 4, 4, 6, 6, 3, 5, 7, 2, 6, 4, 4, 5, 8, 5, 8, 6, 0, 7, 4,\n",
       "       7, 5, 4, 6, 7, 2, 6, 6, 6, 5, 4, 3, 2, 3, 6, 5, 6, 5, 3, 2, 5, 4,\n",
       "       6, 4, 6, 5, 3, 5, 3, 5, 6, 3, 6, 5, 5, 6, 4, 5, 6, 7, 3, 3, 3, 4,\n",
       "       8, 7, 3, 7, 6, 5, 5, 3, 5, 4, 5, 5, 5, 4, 4, 5, 6, 4, 6, 2, 3, 5,\n",
       "       4, 7, 7, 4, 5, 3, 7, 5, 4, 7, 3, 6, 5, 8, 3, 4, 7, 5, 6, 7, 4, 8,\n",
       "       5, 5, 6, 8, 8, 5, 8, 3, 7, 6, 5, 1, 4, 5, 6, 2, 4, 5, 6, 4, 5, 7,\n",
       "       7, 5, 4, 3, 5, 5, 5, 8, 5, 7, 8, 5, 4, 5, 6, 5, 4, 4, 5, 2, 4, 3,\n",
       "       5, 6, 6, 5, 7, 4, 7, 3, 4, 3, 4, 4, 7, 3, 4, 7, 0, 5, 4, 4, 2, 8,\n",
       "       8, 4, 5, 8, 6, 4, 5, 7, 4, 3, 7, 7, 3, 6, 6, 5, 7, 6, 3, 7, 3, 3,\n",
       "       5, 7, 6, 6, 8, 4, 4, 4, 4, 4, 4, 5, 4, 3, 4, 5, 4, 8, 3, 4, 3, 4,\n",
       "       8, 5, 5, 7, 4, 2, 4, 3, 6, 1, 4, 2, 3, 4, 5, 3, 6, 5, 4, 5, 6, 6,\n",
       "       2, 7, 3, 5, 5, 4, 7, 8, 6, 6, 5, 7, 6, 3, 2, 4, 4, 7, 5, 4, 4, 4,\n",
       "       7, 5, 9, 4, 5, 6, 6, 5, 5, 5, 4, 5, 2, 6, 3, 4, 5, 2, 3, 5, 7, 3,\n",
       "       3, 2, 8, 5, 7, 5, 4, 4, 3, 4, 4, 6, 6, 4, 6, 6, 4, 6, 7, 5, 2, 5,\n",
       "       5, 8, 4, 6, 5, 5, 4, 4, 2, 6, 5, 5, 3, 6, 4, 6, 8, 2, 3, 8, 4, 5,\n",
       "       7, 6, 7, 2, 3, 4, 5, 7, 5, 8, 8, 5, 5, 5, 6, 5, 6, 8, 5, 4, 7, 3,\n",
       "       6, 4, 7, 7, 4, 5, 5, 6, 5, 8, 6, 5, 6, 6, 4, 6, 5, 2, 7, 4, 6, 5,\n",
       "       6, 2, 6, 6, 8, 3, 6, 3, 7, 5, 3, 2, 5, 4, 3, 5, 6, 3, 5, 5, 5, 5,\n",
       "       5, 5, 7, 5, 4, 8, 7, 7, 3, 8, 5, 2, 3, 5, 6, 4, 4, 4, 6, 4, 3, 5,\n",
       "       4, 5, 3, 5, 3, 4, 5, 2, 2, 3, 8, 5, 7, 4, 4, 5, 5, 3, 5, 7, 5, 3,\n",
       "       5, 4, 8, 4, 5, 5, 4, 5, 6, 4, 3, 7, 6, 4, 4, 5, 4, 6, 5, 7, 2, 3,\n",
       "       3, 5, 4, 7, 5, 7, 4, 7, 6, 3, 5, 4, 4, 5, 7, 5, 7, 7, 5, 2, 7, 7,\n",
       "       4, 6, 2, 5, 3, 6, 4, 6, 4, 4, 6, 3, 5, 7, 6, 8, 6, 6, 8, 1, 5, 4,\n",
       "       5, 2, 6, 7, 5, 4, 5, 6, 4, 4, 5, 2, 4, 4, 6, 9, 5, 6, 6, 6, 6, 4,\n",
       "       5, 6, 6, 3, 6, 7, 8, 5, 7, 5, 5, 7, 4, 4, 5, 5, 5, 6, 4, 4, 4, 6,\n",
       "       6, 4, 5, 4, 7, 6, 4, 3, 5, 5, 4, 4, 8, 3, 3, 2, 3, 5, 7, 4, 6, 3,\n",
       "       5, 4, 4, 6, 2, 4, 6, 4, 4, 4, 6, 3, 5, 5, 7, 4, 4, 3, 6, 4, 5, 7,\n",
       "       6, 4, 6, 6, 8, 5, 5, 4, 4, 6, 6, 7, 8, 5, 5, 6, 3, 3, 8, 5, 5, 5,\n",
       "       5, 3, 6, 5, 4, 6, 6, 3, 5, 6, 5, 6, 4, 5, 5, 4, 7, 7, 5, 5, 4, 3,\n",
       "       5, 4, 5, 3, 7, 5, 3, 3, 4, 4, 6, 7, 4, 7, 4, 6, 5, 8, 6, 6, 6, 6,\n",
       "       5, 8, 5, 7, 8, 7, 3, 7, 5, 8, 6, 3, 6, 6, 6, 5, 7, 7, 6, 5, 2, 4,\n",
       "       4, 5, 2, 3, 4, 6, 7, 5, 3, 3, 6, 4, 2, 4, 9, 4, 6, 5, 3, 4, 2, 4,\n",
       "       5, 6, 4, 9, 5, 5, 3, 6, 4, 4, 5, 6, 3, 5, 6, 3, 5, 5, 7, 6, 3, 8,\n",
       "       7, 4, 6, 5, 4, 6, 6, 5, 4, 8, 7, 5, 5, 6, 6, 1, 1, 4, 4, 2, 7, 5,\n",
       "       5, 3, 7, 7, 4, 5, 7, 3, 7, 5, 5, 2, 6, 4, 5, 5, 5, 5, 6, 5, 6, 5,\n",
       "       7, 4, 5, 2, 7, 0, 8, 6, 4, 5, 3, 5, 3, 4, 8, 6, 4, 5, 4, 5, 4, 5,\n",
       "       9, 6, 3, 5, 7, 5, 4, 6, 4, 3, 6, 5, 5, 7, 3, 5, 5, 5, 6, 5, 6, 3,\n",
       "       6, 6, 4, 6, 5, 5, 2, 7, 6, 3, 7, 2, 5, 3, 3, 6, 5, 6, 5, 6, 8, 4,\n",
       "       7, 5, 7, 4, 4, 5, 5, 5, 4, 5, 2, 6, 4, 5, 5, 5, 7, 7, 7, 4, 4, 4,\n",
       "       4, 6, 4, 5, 7, 5, 7, 4, 5, 6])"
      ]
     },
     "execution_count": 43,
     "metadata": {},
     "output_type": "execute_result"
    }
   ],
   "source": [
    "# we take an experiment of coin toss, performed 1000 times, sample size =30% of 1000= 300 porbability =0.5 each \n",
    "population=np.random.binomial(n=10,p=0.5, size=1000)\n",
    "population"
   ]
  },
  {
   "cell_type": "code",
   "execution_count": 44,
   "id": "fac435f3",
   "metadata": {},
   "outputs": [
    {
     "data": {
      "text/plain": [
       "[5.0,\n",
       " 4.963333333333333,\n",
       " 5.056666666666667,\n",
       " 4.97,\n",
       " 5.073333333333333,\n",
       " 4.916666666666667,\n",
       " 5.05,\n",
       " 4.906666666666666,\n",
       " 4.8933333333333335,\n",
       " 5.193333333333333,\n",
       " 5.003333333333333,\n",
       " 5.083333333333333,\n",
       " 4.966666666666667,\n",
       " 5.033333333333333,\n",
       " 5.226666666666667,\n",
       " 4.89,\n",
       " 5.07,\n",
       " 5.01,\n",
       " 4.85,\n",
       " 5.033333333333333,\n",
       " 5.22,\n",
       " 5.056666666666667,\n",
       " 4.93,\n",
       " 4.8533333333333335,\n",
       " 5.196666666666666,\n",
       " 5.13,\n",
       " 5.233333333333333,\n",
       " 5.013333333333334,\n",
       " 5.07,\n",
       " 5.003333333333333]"
      ]
     },
     "execution_count": 44,
     "metadata": {},
     "output_type": "execute_result"
    }
   ],
   "source": [
    "#sample size=300, 30 samples taken from 1000 population.\n",
    "#mean statistic found for each sample and put it in a list\n",
    "mean_list=[]\n",
    "for i in range(1,31):\n",
    "    sample_data=np.random.choice(population,size=300)\n",
    "    mean_list.append(np.mean(sample_data))\n",
    "mean_list"
   ]
  },
  {
   "cell_type": "code",
   "execution_count": 45,
   "id": "5ef4c7eb",
   "metadata": {},
   "outputs": [
    {
     "data": {
      "text/plain": [
       "<seaborn.axisgrid.FacetGrid at 0x1d060bd3400>"
      ]
     },
     "execution_count": 45,
     "metadata": {},
     "output_type": "execute_result"
    },
    {
     "data": {
      "image/png": "[encoded data removed]",
      "text/plain": [
       "<Figure size 360x360 with 1 Axes>"
      ]
     },
     "metadata": {
      "needs_background": "light"
     },
     "output_type": "display_data"
    }
   ],
   "source": [
    "#plotting distribution of sample means to see if means are normally distributed or not \n",
    "import seaborn as sns \n",
    "sns.displot(mean_list,kde=True)"
   ]
  },
  {
   "cell_type": "markdown",
   "id": "0ef1326c",
   "metadata": {},
   "source": [
    "## observation\n",
    "sample means are normally distributed. "
   ]
  },
  {
   "cell_type": "markdown",
   "id": "c4c40a35",
   "metadata": {},
   "source": [
    "## Confidence interval and margin of error \n",
    "1. library= scipy.stats\n",
    "https://docs.scipy.org/doc/scipy/reference/stats.html"
   ]
  },
  {
   "cell_type": "code",
   "execution_count": 46,
   "id": "1ad4ce5e",
   "metadata": {},
   "outputs": [],
   "source": [
    "import scipy.stats as stats\n",
    "from scipy.stats import norm"
   ]
  },
  {
   "cell_type": "code",
   "execution_count": 47,
   "id": "127df7bb",
   "metadata": {},
   "outputs": [
    {
     "data": {
      "text/plain": [
       "1.6448536269514722"
      ]
     },
     "execution_count": 47,
     "metadata": {},
     "output_type": "execute_result"
    }
   ],
   "source": [
    "stats.norm.ppf(q=0.95)"
   ]
  },
  {
   "cell_type": "code",
   "execution_count": 48,
   "id": "21bcf14f",
   "metadata": {},
   "outputs": [
    {
     "name": "stdout",
     "output_type": "stream",
     "text": [
      "0.0, 1.0, 0.0, 0.0\n"
     ]
    }
   ],
   "source": [
    "#m=mean\n",
    "#v=variance\n",
    "#s=skew\n",
    "#k=kurtosis\n",
    "mean,var,skew,kur=norm.stats(moments='mvsk')\n",
    "print(f\"{mean}, {var}, {skew}, {kur}\")"
   ]
  },
  {
   "cell_type": "code",
   "execution_count": 49,
   "id": "4bd28b01",
   "metadata": {},
   "outputs": [
    {
     "data": {
      "image/png": "[encoded data removed]",
      "text/plain": [
       "<Figure size 432x288 with 1 Axes>"
      ]
     },
     "metadata": {
      "needs_background": "light"
     },
     "output_type": "display_data"
    }
   ],
   "source": [
    "import matplotlib.pyplot as plt\n",
    "fig, ax = plt.subplots(1, 1)"
   ]
  },
  {
   "cell_type": "markdown",
   "id": "0c7d5065",
   "metadata": {},
   "source": [
    "## Approach to problem solving in stats \n",
    "- describe the dataset (mean, median, mode).\n",
    "- identify type of distribution ( poisson, etc ).\n",
    "- As we find the type of distribution, we apply the formulas to find relevant mean, median, mode, kurtosis etc.\n",
    "- This can be used in estimation problem and then feature engineering."
   ]
  },
  {
   "cell_type": "code",
   "execution_count": null,
   "id": "7d446eb2",
   "metadata": {},
   "outputs": [],
   "source": []
  }
 ],
 "metadata": {
  "kernelspec": {
   "display_name": "Python 3 (ipykernel)",
   "language": "python",
   "name": "python3"
  },
  "language_info": {
   "codemirror_mode": {
    "name": "ipython",
    "version": 3
   },
   "file_extension": ".py",
   "mimetype": "text/x-python",
   "name": "python",
   "nbconvert_exporter": "python",
   "pygments_lexer": "ipython3",
   "version": "3.9.12"
  }
 },
 "nbformat": 4,
 "nbformat_minor": 5
}
